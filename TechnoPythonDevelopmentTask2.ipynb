{
  "nbformat": 4,
  "nbformat_minor": 0,
  "metadata": {
    "colab": {
      "provenance": [],
      "authorship_tag": "ABX9TyPmbHEWvBzHXWzLqirMCXkd",
      "include_colab_link": true
    },
    "kernelspec": {
      "name": "python3",
      "display_name": "Python 3"
    },
    "language_info": {
      "name": "python"
    }
  },
  "cells": [
    {
      "cell_type": "markdown",
      "metadata": {
        "id": "view-in-github",
        "colab_type": "text"
      },
      "source": [
        "<a href=\"https://colab.research.google.com/github/houda21el/TasksPythonDev/blob/main/TechnoPythonDevelopmentTask2.ipynb\" target=\"_parent\"><img src=\"https://colab.research.google.com/assets/colab-badge.svg\" alt=\"Open In Colab\"/></a>"
      ]
    },
    {
      "cell_type": "markdown",
      "source": [
        "# Task 2: Currency Converter"
      ],
      "metadata": {
        "id": "J-QTvaEY43WZ"
      }
    },
    {
      "cell_type": "code",
      "source": [
        "import requests"
      ],
      "metadata": {
        "id": "68utNwNP42Z6"
      },
      "execution_count": null,
      "outputs": []
    },
    {
      "cell_type": "code",
      "execution_count": null,
      "metadata": {
        "id": "iBsrqfeC4jmU"
      },
      "outputs": [],
      "source": [
        "def get_exchange_rate(base_currency, target_currency):\n",
        "    api_url = f\"https://api.exchangerate-api.com/v4/latest/{base_currency}\"\n",
        "    response = requests.get(api_url)\n",
        "    data = response.json()\n",
        "    exchange_rate = data['rates'].get(target_currency)\n",
        "    if exchange_rate:\n",
        "        return exchange_rate\n",
        "    else:\n",
        "        return None\n",
        "\n",
        "def convert_currency(amount, from_currency, to_currency):\n",
        "    exchange_rate = get_exchange_rate(from_currency, to_currency)\n",
        "    if exchange_rate:\n",
        "        converted_amount = amount * exchange_rate\n",
        "        return converted_amount\n",
        "    else:\n",
        "        return None\n",
        "\n",
        "def main():\n",
        "    amount = float(input(\"Enter the amount to convert: \"))\n",
        "    from_currency = input(\"Enter the currency to convert from (e.g., USD, EUR, GBP): \").upper()\n",
        "    to_currency = input(\"Enter the currency to convert to (e.g., USD, EUR, GBP): \").upper()\n",
        "\n",
        "    converted_amount = convert_currency(amount, from_currency, to_currency)\n",
        "    if converted_amount is not None:\n",
        "        print(f\"{amount} {from_currency} is equal to {converted_amount} {to_currency}\")\n",
        "    else:\n",
        "        print(\"Conversion failed. Please check the currency codes and try again.\")\n"
      ]
    },
    {
      "cell_type": "markdown",
      "source": [
        "Testing"
      ],
      "metadata": {
        "id": "9KiHo9Xm5DjW"
      }
    },
    {
      "cell_type": "code",
      "source": [
        "if __name__ == \"__main__\":\n",
        "    main()"
      ],
      "metadata": {
        "id": "Edu1PjoZ5EoV"
      },
      "execution_count": null,
      "outputs": []
    }
  ]
}